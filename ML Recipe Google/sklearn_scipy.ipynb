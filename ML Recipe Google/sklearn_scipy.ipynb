{
 "metadata": {
  "language_info": {
   "codemirror_mode": {
    "name": "ipython",
    "version": 3
   },
   "file_extension": ".py",
   "mimetype": "text/x-python",
   "name": "python",
   "nbconvert_exporter": "python",
   "pygments_lexer": "ipython3",
   "version": "3.8.5"
  },
  "orig_nbformat": 2,
  "kernelspec": {
   "name": "python385jvsc74a57bd07d8e45b7511ed0bae0da8aa9e12b7fc064bc410068fd32de5d17f00acb9d5ea5",
   "display_name": "Python 3.8.5 64-bit ('base': conda)"
  }
 },
 "nbformat": 4,
 "nbformat_minor": 2,
 "cells": [
  {
   "source": [
    "## Google guide\n",
    "[code reference] (https://github.com/TheCoinTosser/MachineLearningGoogleSeries)"
   ],
   "cell_type": "markdown",
   "metadata": {}
  },
  {
   "cell_type": "code",
   "execution_count": null,
   "metadata": {},
   "outputs": [],
   "source": [
    "from sklearn import tree\n",
    "features = [[140,1],[130,1],[150,0],[170,0]]\n",
    "labels = [0,0,1,1]\n",
    "#Classifier cf\n",
    "cf = tree.DecisionTreeClassifier()\n",
    "cf = cf.fit(features,labels)\n",
    "#Prediction\n",
    "p = cf.predict([[150,1]])\n",
    "print(\"Prediction :\",p[0])"
   ]
  },
  {
   "cell_type": "code",
   "execution_count": null,
   "metadata": {},
   "outputs": [],
   "source": [
    "##Visualizing data\n",
    "from sklearn.datasets import load_iris\n",
    "iris = load_iris()\n",
    "print(\"Features names\")\n",
    "print(iris.feature_names)\n",
    "print(\"Target names\")\n",
    "print(iris.target_names)\n",
    "print(\"First dataset\")\n",
    "print(iris.data[0])\n",
    "print(\"First label\")\n",
    "print(iris.target[0])"
   ]
  },
  {
   "source": [
    "##Training data\n",
    "import numpy as np\n",
    "test_idx = [0,50,100]\n",
    "#training data \n",
    "training_target = np.delete(iris.target,test_idx)\n",
    "training_data = np.delete(iris.data,test_idx,axis=0)\n",
    "#testing data\n",
    "test_target = iris.target[test_idx]\n",
    "test_data = iris.data[test_idx]\n",
    "\n",
    "#using classifier\n",
    "cf = cf.fit(training_data,training_target)\n",
    "\n",
    "print(\"Expected values\",test_target)\n",
    "print(\"Predicted values\",cf.predict(test_data))\n"
   ],
   "cell_type": "code",
   "metadata": {},
   "execution_count": null,
   "outputs": []
  },
  {
   "cell_type": "code",
   "execution_count": null,
   "metadata": {},
   "outputs": [],
   "source": [
    "#Ploting easy\n",
    "tree.plot_tree(cf,feature_names=iris.feature_names,class_names=iris.target_names)"
   ]
  },
  {
   "cell_type": "code",
   "execution_count": null,
   "metadata": {},
   "outputs": [],
   "source": [
    "import graphviz \n",
    "dot_data = tree.export_graphviz(cf, out_file=None) \n",
    "graph = graphviz.Source(dot_data) \n",
    "graph.render(\"iris\") \n",
    "dot_data = tree.export_graphviz(cf, out_file=None, \n",
    "                      feature_names=iris.feature_names,  \n",
    "                      class_names=iris.target_names,  \n",
    "                      filled=True, rounded=True,  \n",
    "                      special_characters=True)  \n",
    "graph = graphviz.Source(dot_data)  \n",
    "graph "
   ]
  },
  {
   "cell_type": "code",
   "execution_count": null,
   "metadata": {},
   "outputs": [],
   "source": [
    "import matplotlib.pyplot as plt\n",
    "\n",
    "greyhounds = 500\n",
    "labs = 500\n",
    "\n",
    "grey_height = 28+4*np.random.randn(greyhounds)\n",
    "lab_height = 24+4*np.random.randn(labs)\n",
    "plt.hist([grey_height,lab_height],stacked=True,color=['r','b'])\n",
    "plt.show()"
   ]
  },
  {
   "cell_type": "code",
   "execution_count": null,
   "metadata": {},
   "outputs": [],
   "source": [
    "from sklearn.neighbors import KNeighborsClassifier\n",
    "#Classifier Knearest\n",
    "cf = KNeighborsClassifier(n_neighbors=1)\n",
    "cf = cf.fit(training_data,training_target)\n",
    "\n",
    "print(\"Expected values\",test_target)\n",
    "print(\"Predicted values\",cf.predict(test_data))"
   ]
  },
  {
   "cell_type": "code",
   "execution_count": null,
   "metadata": {},
   "outputs": [],
   "source": [
    "#Partitioning data\n",
    "#sklearn.cross_validation not avialable anymore use model_selection\n",
    "from sklearn.model_selection import train_test_split\n",
    "X = iris.data\n",
    "y = iris.target\n",
    "X_train, X_test, y_train, y_test = train_test_split(X,y,test_size=0.5)"
   ]
  },
  {
   "cell_type": "code",
   "execution_count": null,
   "metadata": {},
   "outputs": [],
   "source": [
    "#Using splited data\n",
    "tree_cf = tree.DecisionTreeClassifier()\n",
    "tree_cf.fit(X_train,y_train)\n",
    "\n",
    "tree_prediction = tree_cf.predict(X_test)\n",
    "\n",
    "kn_cf = KNeighborsClassifier()\n",
    "kn_cf.fit(X_train,y_train)\n",
    "kn_prediction = kn_cf.predict(X_test)\n",
    "#Calculating accuracy\n",
    "from sklearn.metrics import accuracy_score\n",
    "print(\"Accuracy using tree classifier\" ,accuracy_score(y_test,tree_prediction))\n",
    "print(\"Accuracy using kn classifier\" ,accuracy_score(y_test,kn_prediction))"
   ]
  },
  {
   "cell_type": "code",
   "execution_count": null,
   "metadata": {},
   "outputs": [],
   "source": [
    "#Scrappy KNN\n",
    "import random\n",
    "from scipy.spatial import distance\n",
    "def euc(a,b):\n",
    "    return distance.euclidean(a,b)\n",
    "class ScrappyKNN():\n",
    "    def fit(self,X_train,y_train):\n",
    "        self.X_train = X_train\n",
    "        self.y_train = y_train\n",
    "        \n",
    "    def predict(self,X_test):\n",
    "        predictions =[]\n",
    "        for row in X_test:\n",
    "            label = self.closest(row)\n",
    "            predictions.append(label)\n",
    "        return predictions\n",
    "    def closest(self,row):\n",
    "        best_dist =euc(row,self.X_train[0])\n",
    "        best_index = 0\n",
    "        for i in range(1,len(self.X_train)):\n",
    "            dist = euc(row,self.X_train[i])\n",
    "            if dist<best_dist:\n",
    "                best_dist = dist\n",
    "                best_index = i\n",
    "        return self.y_train[best_index]"
   ]
  },
  {
   "cell_type": "code",
   "execution_count": null,
   "metadata": {},
   "outputs": [],
   "source": [
    "rn_cf = ScrappyKNN()\n",
    "rn_cf.fit(X_train,y_train)\n",
    "rn_prediction = rn_cf.predict(X_test)\n",
    "#Calculating accuracy\n",
    "from sklearn.metrics import accuracy_score\n",
    "print(\"Accuracy using random classifier\" ,accuracy_score(y_test,rn_prediction))"
   ]
  },
  {
   "cell_type": "code",
   "execution_count": 1,
   "metadata": {},
   "outputs": [
    {
     "output_type": "stream",
     "name": "stdout",
     "text": [
      "Files available\n"
     ]
    }
   ],
   "source": [
    "#Checks if the files exists\n",
    "import os\n",
    "if not(os.path.isdir(\"./flower_photos\")):\n",
    "    os.system(\"curl -O http://download.tensorflow.org/example_images/flower_photos.tgz\")\n",
    "    os.system(\"tar -xvzf flower_photos.tgz\")\n",
    "    os.system(\"rm flower_photos.tgz\")\n",
    "print(\"Files available\")"
   ]
  },
  {
   "cell_type": "code",
   "execution_count": null,
   "metadata": {},
   "outputs": [],
   "source": []
  }
 ]
}